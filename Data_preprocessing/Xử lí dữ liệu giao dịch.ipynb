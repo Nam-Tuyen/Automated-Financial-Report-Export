{
 "cells": [
  {
   "cell_type": "code",
   "execution_count": 1,
   "metadata": {},
   "outputs": [],
   "source": [
    "import pandas as pd"
   ]
  },
  {
   "cell_type": "code",
   "execution_count": 2,
   "metadata": {},
   "outputs": [],
   "source": [
    "# Đường dẫn đến file CSV\n",
    "file_path = 'Data/Data raw/FT2325.csv'"
   ]
  },
  {
   "cell_type": "code",
   "execution_count": 3,
   "metadata": {},
   "outputs": [],
   "source": [
    "# Đọc file CSV\n",
    "data = pd.read_csv(file_path)"
   ]
  },
  {
   "cell_type": "code",
   "execution_count": 4,
   "metadata": {},
   "outputs": [
    {
     "data": {
      "text/html": [
       "<div>\n",
       "<style scoped>\n",
       "    .dataframe tbody tr th:only-of-type {\n",
       "        vertical-align: middle;\n",
       "    }\n",
       "\n",
       "    .dataframe tbody tr th {\n",
       "        vertical-align: top;\n",
       "    }\n",
       "\n",
       "    .dataframe thead th {\n",
       "        text-align: right;\n",
       "    }\n",
       "</style>\n",
       "<table border=\"1\" class=\"dataframe\">\n",
       "  <thead>\n",
       "    <tr style=\"text-align: right;\">\n",
       "      <th></th>\n",
       "      <th>Ticker</th>\n",
       "      <th>Date</th>\n",
       "      <th>Close</th>\n",
       "      <th>%Chg</th>\n",
       "      <th>Volume</th>\n",
       "      <th>F.Sell_Vol</th>\n",
       "      <th>F.Buy_Vol</th>\n",
       "      <th>Net.F_Vol</th>\n",
       "      <th>TT.F_Vol</th>\n",
       "      <th>F.Sell_Val</th>\n",
       "      <th>F.Buy_Val</th>\n",
       "      <th>Net.F_Val</th>\n",
       "      <th>TT.F_Val</th>\n",
       "    </tr>\n",
       "  </thead>\n",
       "  <tbody>\n",
       "    <tr>\n",
       "      <th>0</th>\n",
       "      <td>A32</td>\n",
       "      <td>3/1/2023</td>\n",
       "      <td>25.32</td>\n",
       "      <td>0.00</td>\n",
       "      <td>0.0</td>\n",
       "      <td>-0.0</td>\n",
       "      <td>0.0</td>\n",
       "      <td>0.0</td>\n",
       "      <td>0.0</td>\n",
       "      <td>-0.0</td>\n",
       "      <td>0.0</td>\n",
       "      <td>0.0</td>\n",
       "      <td>0.0</td>\n",
       "    </tr>\n",
       "    <tr>\n",
       "      <th>1</th>\n",
       "      <td>A32</td>\n",
       "      <td>4/1/2023</td>\n",
       "      <td>25.32</td>\n",
       "      <td>0.00</td>\n",
       "      <td>0.0</td>\n",
       "      <td>-0.0</td>\n",
       "      <td>0.0</td>\n",
       "      <td>0.0</td>\n",
       "      <td>0.0</td>\n",
       "      <td>-0.0</td>\n",
       "      <td>0.0</td>\n",
       "      <td>0.0</td>\n",
       "      <td>0.0</td>\n",
       "    </tr>\n",
       "    <tr>\n",
       "      <th>2</th>\n",
       "      <td>A32</td>\n",
       "      <td>5/1/2023</td>\n",
       "      <td>25.32</td>\n",
       "      <td>0.00</td>\n",
       "      <td>0.0</td>\n",
       "      <td>-0.0</td>\n",
       "      <td>0.0</td>\n",
       "      <td>0.0</td>\n",
       "      <td>0.0</td>\n",
       "      <td>-0.0</td>\n",
       "      <td>0.0</td>\n",
       "      <td>0.0</td>\n",
       "      <td>0.0</td>\n",
       "    </tr>\n",
       "    <tr>\n",
       "      <th>3</th>\n",
       "      <td>A32</td>\n",
       "      <td>6/1/2023</td>\n",
       "      <td>25.32</td>\n",
       "      <td>0.00</td>\n",
       "      <td>0.0</td>\n",
       "      <td>-0.0</td>\n",
       "      <td>0.0</td>\n",
       "      <td>0.0</td>\n",
       "      <td>0.0</td>\n",
       "      <td>-0.0</td>\n",
       "      <td>0.0</td>\n",
       "      <td>0.0</td>\n",
       "      <td>0.0</td>\n",
       "    </tr>\n",
       "    <tr>\n",
       "      <th>4</th>\n",
       "      <td>A32</td>\n",
       "      <td>9/1/2023</td>\n",
       "      <td>24.32</td>\n",
       "      <td>-3.97</td>\n",
       "      <td>1600.0</td>\n",
       "      <td>-0.0</td>\n",
       "      <td>0.0</td>\n",
       "      <td>0.0</td>\n",
       "      <td>0.0</td>\n",
       "      <td>-0.0</td>\n",
       "      <td>0.0</td>\n",
       "      <td>0.0</td>\n",
       "      <td>0.0</td>\n",
       "    </tr>\n",
       "  </tbody>\n",
       "</table>\n",
       "</div>"
      ],
      "text/plain": [
       "  Ticker      Date  Close  %Chg  Volume  F.Sell_Vol  F.Buy_Vol  Net.F_Vol  \\\n",
       "0    A32  3/1/2023  25.32  0.00     0.0        -0.0        0.0        0.0   \n",
       "1    A32  4/1/2023  25.32  0.00     0.0        -0.0        0.0        0.0   \n",
       "2    A32  5/1/2023  25.32  0.00     0.0        -0.0        0.0        0.0   \n",
       "3    A32  6/1/2023  25.32  0.00     0.0        -0.0        0.0        0.0   \n",
       "4    A32  9/1/2023  24.32 -3.97  1600.0        -0.0        0.0        0.0   \n",
       "\n",
       "   TT.F_Vol  F.Sell_Val  F.Buy_Val  Net.F_Val  TT.F_Val  \n",
       "0       0.0        -0.0        0.0        0.0       0.0  \n",
       "1       0.0        -0.0        0.0        0.0       0.0  \n",
       "2       0.0        -0.0        0.0        0.0       0.0  \n",
       "3       0.0        -0.0        0.0        0.0       0.0  \n",
       "4       0.0        -0.0        0.0        0.0       0.0  "
      ]
     },
     "execution_count": 4,
     "metadata": {},
     "output_type": "execute_result"
    }
   ],
   "source": [
    "data.head()"
   ]
  },
  {
   "cell_type": "code",
   "execution_count": 5,
   "metadata": {},
   "outputs": [
    {
     "name": "stdout",
     "output_type": "stream",
     "text": [
      "   Close  %Chg  Net.F_Vol  TT.F_Vol  Net.F_Val  TT.F_Val\n",
      "0  25.32  0.00        0.0       0.0        0.0       0.0\n",
      "1  25.32  0.00        0.0       0.0        0.0       0.0\n",
      "2  25.32  0.00        0.0       0.0        0.0       0.0\n",
      "3  25.32  0.00        0.0       0.0        0.0       0.0\n",
      "4  24.32 -3.97        0.0       0.0        0.0       0.0\n"
     ]
    }
   ],
   "source": [
    "# Các cột cần giữ lại\n",
    "columns_to_keep = [\"Close\", \"%Chg\", \"Net.F_Vol\", \"TT.F_Vol\", \"Net.F_Val\", \"TT.F_Val\"]\n",
    "\n",
    "# Lọc DataFrame để chỉ giữ lại các cột cần thiết\n",
    "filtered_data = data[columns_to_keep]\n",
    "\n",
    "# Hiển thị DataFrame sau khi lọc\n",
    "print(filtered_data.head())\n",
    "\n",
    "# Lưu DataFrame đã lọc vào một file CSV mới (nếu cần)\n",
    "filtered_data.to_csv('Data/Data cleaned/FT2325_filtered.csv', index=False)"
   ]
  },
  {
   "cell_type": "code",
   "execution_count": 8,
   "metadata": {},
   "outputs": [
    {
     "name": "stdout",
     "output_type": "stream",
     "text": [
      "File Excel đã được xuất thành công!\n"
     ]
    }
   ],
   "source": [
    "# Lưu DataFrame đã lọc vào một file CSV mới (nếu cần)\n",
    "filtered_data.to_excel('Data/Data cleaned/DataGD23_25.xlsx', index=False)\n",
    "print(\"File Excel đã được xuất thành công!\")"
   ]
  }
 ],
 "metadata": {
  "kernelspec": {
   "display_name": "venv",
   "language": "python",
   "name": "python3"
  },
  "language_info": {
   "codemirror_mode": {
    "name": "ipython",
    "version": 3
   },
   "file_extension": ".py",
   "mimetype": "text/x-python",
   "name": "python",
   "nbconvert_exporter": "python",
   "pygments_lexer": "ipython3",
   "version": "3.11.9"
  }
 },
 "nbformat": 4,
 "nbformat_minor": 2
}
